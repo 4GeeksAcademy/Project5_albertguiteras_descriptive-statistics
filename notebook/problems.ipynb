{
    "cells": [
        {
            "cell_type": "markdown",
            "id": "ac622319",
            "metadata": {},
            "source": [
                "# Descriptive statistics problems"
            ]
        },
        {
            "cell_type": "markdown",
            "id": "5e0ab0d5",
            "metadata": {},
            "source": [
                "### Exercise 1\n",
                "\n",
                "We will use NumPy to obtain information to describe statistically.\n",
                "\n",
                "- Generate an array of 100 elements following a normal distribution.\n",
                "- Generate an array of 100 elements following a chi-square distribution with 3 degrees of freedom.\n",
                "- Calculate the main metrics and statistical measures that best describe the two vectors."
            ]
        },
        {
            "cell_type": "code",
            "execution_count": 4,
            "id": "34720ab6",
            "metadata": {},
            "outputs": [],
            "source": [
                "# TODO\n",
                "\n",
                "import numpy as np\n",
                "\n",
                "arr1 = np.random.normal(size = 100)\n",
                "arr2 = np.random.chisquare(2, 100)\n"
            ]
        },
        {
            "cell_type": "code",
            "execution_count": 11,
            "id": "bc2996db",
            "metadata": {},
            "outputs": [
                {
                    "name": "stdout",
                    "output_type": "stream",
                    "text": [
                        "0.18183342720260293\n",
                        "1.9010021460098452\n",
                        "0.3788696045998956\n",
                        "1.6162530619506017\n",
                        "1.4167334435160965\n",
                        "1.106837844253551\n",
                        "5.41818159776494\n",
                        "10.382994402380431\n",
                        "0.9450637622131354\n",
                        "1.693259893469434\n"
                    ]
                }
            ],
            "source": [
                "# Mean\n",
                "\n",
                "print(arr1.mean())\n",
                "print(arr2.mean())\n",
                "\n",
                "# Median\n",
                "\n",
                "print(np.median(arr1))\n",
                "print(np.median(arr2))\n",
                "\n",
                "# Mode\n",
                "\n",
                "import statistics as stat\n",
                "\n",
                "print(stat.mode(arr1))\n",
                "print(stat.mode(arr2))\n",
                "\n",
                "# Range \n",
                "\n",
                "range1 = max(arr1) - min(arr1)\n",
                "range2 = max(arr2) - min(arr2)\n",
                "\n",
                "print(range1)\n",
                "print(range2)\n",
                "\n",
                "# Standard deviation\n",
                "\n",
                "print(arr1.std())\n",
                "print(arr2.std())\n",
                "\n"
            ]
        },
        {
            "cell_type": "markdown",
            "id": "46c70c3d",
            "metadata": {},
            "source": [
                "### Exercise 2\n",
                "\n",
                "Write a Python program to calculate the standard deviation of the following data:\n",
                "\n",
                "```py\n",
                "data = [4, 2, 5, 8, 6]\n",
                "```"
            ]
        },
        {
            "cell_type": "code",
            "execution_count": 39,
            "id": "d590308e",
            "metadata": {},
            "outputs": [
                {
                    "name": "stdout",
                    "output_type": "stream",
                    "text": [
                        "5.0\n",
                        "2.0\n"
                    ]
                }
            ],
            "source": [
                "# TODO\n",
                "import math \n",
                "\n",
                "data = [4, 2, 5, 8, 6]\n",
                "mean = sum(data) / len(data)\n",
                "\n",
                "squared_differences = [(float(e) - mean) ** 2 for e in data]\n",
                "\n",
                "variance = sum(squared_differences) / len(data)\n",
                "\n",
                "std_dev = math.sqrt(variance)\n",
                "\n",
                "print(mean)\n",
                "print(std_dev)\n"
            ]
        }
    ],
    "metadata": {
        "kernelspec": {
            "display_name": "Python 3",
            "language": "python",
            "name": "python3"
        },
        "language_info": {
            "codemirror_mode": {
                "name": "ipython",
                "version": 3
            },
            "file_extension": ".py",
            "mimetype": "text/x-python",
            "name": "python",
            "nbconvert_exporter": "python",
            "pygments_lexer": "ipython3",
            "version": "3.11.4"
        }
    },
    "nbformat": 4,
    "nbformat_minor": 5
}
